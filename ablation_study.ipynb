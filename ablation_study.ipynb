{
 "cells": [
  {
   "cell_type": "code",
   "execution_count": 2,
   "id": "ebb61caa",
   "metadata": {},
   "outputs": [
    {
     "data": {
      "text/plain": [
       "'C:\\\\Users\\\\Katerina\\\\PycharmProjects\\\\diplomatiki'"
      ]
     },
     "execution_count": 2,
     "metadata": {},
     "output_type": "execute_result"
    }
   ],
   "source": [
    "import pandas as pd\n",
    "import os\n",
    "os.getcwd()"
   ]
  },
  {
   "cell_type": "code",
   "execution_count": 3,
   "id": "14e2f344",
   "metadata": {},
   "outputs": [],
   "source": [
    "music_df = pd.read_csv('data/last_fm_experiments.csv')\n",
    "# music_df\n",
    "movies_df = pd.read_csv('data/movies_experiments.csv')\n",
    "# movies_df"
   ]
  },
  {
   "cell_type": "code",
   "execution_count": 8,
   "id": "dd01c965",
   "metadata": {},
   "outputs": [
    {
     "name": "stdout",
     "output_type": "stream",
     "text": [
      "Index(['auc_original', 'auc_without_self_attention',\n",
      "       'auc_without_ls_regularization', 'auc_with_dropout_0.2', 'f1_original',\n",
      "       'f1_without_self_attention', 'f1_without_ls_regularization',\n",
      "       'f1_with_dropout_0.2', 'prec@1_original',\n",
      "       'prec@1_without_self_attention', 'prec@1_without_ls_regularization',\n",
      "       'prec@1_with_dropout_0.2', 'prec@3_original',\n",
      "       'prec@3_without_self_attention', 'prec@3_without_ls_regularization',\n",
      "       'prec@3_with_dropout_0.2', 'prec@10_original',\n",
      "       'prec@10_without_self_attention', 'prec@10_without_ls_regularization',\n",
      "       'prec@10_with_dropout_0.2', 'rec@1_original',\n",
      "       'rec@1_without_self_attention', 'rec@1_without_ls_regularization',\n",
      "       'rec@1_with_dropout_0.2', 'rec@3_original',\n",
      "       'rec@3_without_self_attention', 'rec@3_without_ls_regularization',\n",
      "       'rec@3_with_dropout_0.2', 'rec@10_original',\n",
      "       'rec@10_without_self_attention', 'rec@10_without_ls_regularization',\n",
      "       'rec@10_with_dropout_0.2'],\n",
      "      dtype='object')\n",
      "Index(['auc_original', 'auc_without_self_attention',\n",
      "       'auc_without_ls_regularization', 'auc_with_dropout_0.2', 'f1_original',\n",
      "       'f1_without_self_attention', 'f1_without_ls_regularization',\n",
      "       'f1_with_dropout_0.2', 'prec@1_original',\n",
      "       'prec@1_without_self_attention', 'prec@1_without_ls_regularization',\n",
      "       'prec@1_with_dropout_0.2', 'prec@3_original',\n",
      "       'prec@3_without_self_attention', 'prec@3_without_ls_regularization',\n",
      "       'prec@3_with_dropout_0.2', 'prec@10_original',\n",
      "       'prec@10_without_self_attention', 'prec@10_without_ls_regularization',\n",
      "       'prec@10_with_dropout_0.2', 'rec@1_original',\n",
      "       'rec@1_without_self_attention', 'rec@1_without_ls_regularization',\n",
      "       'rec@1_with_dropout_0.2', 'rec@3_original',\n",
      "       'rec@3_without_self_attention', 'rec@3_without_ls_regularization',\n",
      "       'rec@3_with_dropout_0.2', 'rec@10_original',\n",
      "       'rec@10_without_self_attention', 'rec@10_without_ls_regularization',\n",
      "       'rec@10_with_dropout_0.2'],\n",
      "      dtype='object')\n"
     ]
    }
   ],
   "source": [
    "# # check column names\n",
    "print(music_df.columns)\n",
    "print(movies_df.columns)"
   ]
  },
  {
   "cell_type": "code",
   "execution_count": 19,
   "id": "63b356b3",
   "metadata": {},
   "outputs": [],
   "source": [
    "# #music_df or movies_df\n",
    "# original_df=music_df\n",
    "# # auc or f1 or prec@1 or prec@3 or prec@10 or rec@1 or rec@3 or rec@10\n",
    "# metric='auc'\n",
    "\n",
    "# metric_subtable=original_df[[metric+'_original', metric+'_without_self_attention', metric+'_without_ls_regularization', metric+'_with_dropout _0.2']]\n",
    "# # metric_subtable.head()\n",
    "\n",
    "# # Calculate ranks for each column by row\n",
    "# ranked_metric_subtable = metric_subtable.rank(axis=1, ascending=False)\n",
    "# # ranked_metric_subtable.head()\n",
    "\n",
    "# # Rename the columns to indicate they are ranks\n",
    "# ranked_metric_subtable.columns = [col + '_rank' for col in metric_subtable.columns]\n",
    "# # ranked_metric_subtable.head()\n",
    "\n",
    "# # Concatenate the original DataFrame with the ranks\n",
    "# result_ranked = pd.concat([metric_subtable, ranked_metric_subtable], axis=1)\n",
    "# # result_ranked.head()"
   ]
  },
  {
   "cell_type": "code",
   "execution_count": 5,
   "id": "ffb31796",
   "metadata": {},
   "outputs": [],
   "source": [
    "# function that adds 4 columns with the ranked values of the given metric by row (for each experiment itteration)\n",
    "def add_rank_columns(original_df, metric):\n",
    "    metric_subtable=original_df[[metric+'_original', metric+'_without_self_attention', metric+'_without_ls_regularization', metric+'_with_dropout_0.2']]\n",
    "    ranked_metric_subtable = metric_subtable.rank(axis=1, ascending=False)\n",
    "    ranked_metric_subtable.columns = [col + '_rank' for col in metric_subtable.columns]\n",
    "    result_ranked = pd.concat([metric_subtable, ranked_metric_subtable], axis=1)\n",
    "    return result_ranked    "
   ]
  },
  {
   "cell_type": "code",
   "execution_count": null,
   "id": "d24aa12a",
   "metadata": {},
   "outputs": [],
   "source": [
    "# function to export original and ranked values for given dataframe and metric\n",
    "def export_metric_ranks_xlxs(original_df, original_name, metric, index=False):\n",
    "    ranked_df = add_rank_columns(original_df, metric)\n",
    "    excel_file_path = f\"ranked_{original_name}_{metric}.xlsx\"\n",
    "    return ranked_df.to_excel(excel_file_path, index=index)\n",
    "\n",
    "export_metric_ranks_xlxs(original_df=movies_df, original_name='movies_df', metric='f1')"
   ]
  },
  {
   "cell_type": "code",
   "execution_count": 6,
   "id": "d1492dca",
   "metadata": {
    "scrolled": true
   },
   "outputs": [
    {
     "data": {
      "text/html": [
       "<div>\n",
       "<style scoped>\n",
       "    .dataframe tbody tr th:only-of-type {\n",
       "        vertical-align: middle;\n",
       "    }\n",
       "\n",
       "    .dataframe tbody tr th {\n",
       "        vertical-align: top;\n",
       "    }\n",
       "\n",
       "    .dataframe thead th {\n",
       "        text-align: right;\n",
       "    }\n",
       "</style>\n",
       "<table border=\"1\" class=\"dataframe\">\n",
       "  <thead>\n",
       "    <tr style=\"text-align: right;\">\n",
       "      <th></th>\n",
       "      <th>auc_original</th>\n",
       "      <th>auc_without_self_attention</th>\n",
       "      <th>auc_without_ls_regularization</th>\n",
       "      <th>auc_with_dropout_0.2</th>\n",
       "      <th>auc_original_rank</th>\n",
       "      <th>auc_without_self_attention_rank</th>\n",
       "      <th>auc_without_ls_regularization_rank</th>\n",
       "      <th>auc_with_dropout_0.2_rank</th>\n",
       "    </tr>\n",
       "  </thead>\n",
       "  <tbody>\n",
       "    <tr>\n",
       "      <th>0</th>\n",
       "      <td>0.797</td>\n",
       "      <td>0.394</td>\n",
       "      <td>0.8</td>\n",
       "      <td>0.8</td>\n",
       "      <td>3.0</td>\n",
       "      <td>4.0</td>\n",
       "      <td>1.5</td>\n",
       "      <td>1.5</td>\n",
       "    </tr>\n",
       "  </tbody>\n",
       "</table>\n",
       "</div>"
      ],
      "text/plain": [
       "   auc_original  auc_without_self_attention  auc_without_ls_regularization  \\\n",
       "0         0.797                       0.394                            0.8   \n",
       "\n",
       "   auc_with_dropout_0.2  auc_original_rank  auc_without_self_attention_rank  \\\n",
       "0                   0.8                3.0                              4.0   \n",
       "\n",
       "   auc_without_ls_regularization_rank  auc_with_dropout_0.2_rank  \n",
       "0                                 1.5                        1.5  "
      ]
     },
     "execution_count": 6,
     "metadata": {},
     "output_type": "execute_result"
    }
   ],
   "source": [
    "ranked_music = add_rank_columns(original_df=music_df, metric='auc')\n",
    "ranked_music.head(1)"
   ]
  },
  {
   "cell_type": "code",
   "execution_count": 15,
   "id": "38bda2c7",
   "metadata": {},
   "outputs": [],
   "source": [
    "# # Export DataFrame to Excel\n",
    "# ranked_music = add_rank_columns(original_df=music_df, metric='rec@3')\n",
    "# excel_file_path = 'ranked_music_rec@3.xlsx'\n",
    "# ranked_music.to_excel(excel_file_path, index=False)  # index=False to exclude row numbers in Excel"
   ]
  },
  {
   "cell_type": "code",
   "execution_count": 6,
   "id": "d38759ca",
   "metadata": {},
   "outputs": [
    {
     "data": {
      "text/html": [
       "<div>\n",
       "<style scoped>\n",
       "    .dataframe tbody tr th:only-of-type {\n",
       "        vertical-align: middle;\n",
       "    }\n",
       "\n",
       "    .dataframe tbody tr th {\n",
       "        vertical-align: top;\n",
       "    }\n",
       "\n",
       "    .dataframe thead th {\n",
       "        text-align: right;\n",
       "    }\n",
       "</style>\n",
       "<table border=\"1\" class=\"dataframe\">\n",
       "  <thead>\n",
       "    <tr style=\"text-align: right;\">\n",
       "      <th></th>\n",
       "      <th>auc_original</th>\n",
       "      <th>auc_without_self_attention</th>\n",
       "      <th>auc_without_ls_regularization</th>\n",
       "      <th>auc_with_dropout_0.2</th>\n",
       "      <th>auc_original_rank</th>\n",
       "      <th>auc_without_self_attention_rank</th>\n",
       "      <th>auc_without_ls_regularization_rank</th>\n",
       "      <th>auc_with_dropout_0.2_rank</th>\n",
       "    </tr>\n",
       "  </thead>\n",
       "  <tbody>\n",
       "    <tr>\n",
       "      <th>0</th>\n",
       "      <td>0.976</td>\n",
       "      <td>0.969</td>\n",
       "      <td>0.976</td>\n",
       "      <td>0.974</td>\n",
       "      <td>1.5</td>\n",
       "      <td>4.0</td>\n",
       "      <td>1.5</td>\n",
       "      <td>3.0</td>\n",
       "    </tr>\n",
       "  </tbody>\n",
       "</table>\n",
       "</div>"
      ],
      "text/plain": [
       "   auc_original  auc_without_self_attention  auc_without_ls_regularization  \\\n",
       "0         0.976                       0.969                          0.976   \n",
       "\n",
       "   auc_with_dropout_0.2  auc_original_rank  auc_without_self_attention_rank  \\\n",
       "0                 0.974                1.5                              4.0   \n",
       "\n",
       "   auc_without_ls_regularization_rank  auc_with_dropout_0.2_rank  \n",
       "0                                 1.5                        3.0  "
      ]
     },
     "execution_count": 6,
     "metadata": {},
     "output_type": "execute_result"
    }
   ],
   "source": [
    "ranked_movies = add_rank_columns(original_df=movies_df, metric='auc')\n",
    "ranked_movies.head(1)"
   ]
  },
  {
   "cell_type": "code",
   "execution_count": 36,
   "id": "05885f0b",
   "metadata": {},
   "outputs": [],
   "source": [
    "# # Export DataFrame to Excel\n",
    "# ranked_movies = add_rank_columns(original_df=movies_df, metric='f1')\n",
    "# excel_file_path = 'ranked_movies_f1.xlsx'\n",
    "# ranked_movies.to_excel(excel_file_path, index=False)  # index=False to exclude row numbers in Excel"
   ]
  },
  {
   "cell_type": "code",
   "execution_count": null,
   "id": "f1576428",
   "metadata": {},
   "outputs": [],
   "source": []
  },
  {
   "cell_type": "code",
   "execution_count": 38,
   "id": "1160a4d6",
   "metadata": {},
   "outputs": [],
   "source": []
  },
  {
   "cell_type": "code",
   "execution_count": 14,
   "id": "69d1e5c2",
   "metadata": {},
   "outputs": [],
   "source": [
    "def mean_metric_rank(original_df, metric):\n",
    "    metric_subtable=original_df[[metric+'_original', metric+'_without_self_attention', metric+'_without_ls_regularization', metric+'_with_dropout_0.2']]\n",
    "    ranked_metric_subtable = metric_subtable.rank(axis=1, ascending=False)\n",
    "    ranked_metric_subtable.columns = [col + '_rank' for col in metric_subtable.columns]\n",
    "    result_ranked = pd.concat([metric_subtable, ranked_metric_subtable], axis=1)\n",
    "    mean_values = result_ranked.mean()\n",
    "    mean_values = mean_values.tolist()\n",
    "    return mean_values    "
   ]
  },
  {
   "cell_type": "code",
   "execution_count": 16,
   "id": "c0c4421c",
   "metadata": {},
   "outputs": [
    {
     "data": {
      "text/plain": [
       "[0.05460000000000003,\n",
       " 0.005000000000000002,\n",
       " 0.05343333333333336,\n",
       " 0.039500000000000014,\n",
       " 1.6166666666666667,\n",
       " 4.0,\n",
       " 1.5333333333333334,\n",
       " 2.85]"
      ]
     },
     "execution_count": 16,
     "metadata": {},
     "output_type": "execute_result"
    }
   ],
   "source": [
    "ranked_music = mean_metric_rank(original_df=music_df, metric='rec@3')\n",
    "ranked_music"
   ]
  },
  {
   "cell_type": "code",
   "execution_count": 19,
   "id": "cde7a7e0",
   "metadata": {},
   "outputs": [],
   "source": [
    "# caalculate mean values per metric for a given table\n",
    "def dict_mean_ranks(original_df):\n",
    "    metrics_list = ['auc','f1','prec@1','prec@3','prec@10','rec@1','rec@3','rec@10']\n",
    "    metrics_means = {}\n",
    "\n",
    "    for metric in metrics_list:\n",
    "        metrics_means[metric] = mean_metric_rank(original_df=original_df, metric=metric)\n",
    "    print(metrics_means)"
   ]
  },
  {
   "cell_type": "code",
   "execution_count": 20,
   "id": "6b4eb572",
   "metadata": {},
   "outputs": [
    {
     "name": "stdout",
     "output_type": "stream",
     "text": [
      "{'auc': [0.9754666666666666, 0.9699000000000002, 0.9754999999999999, 0.9742000000000002, 1.6, 4.0, 1.55, 2.85], 'f1': [0.9291333333333329, 0.9179333333333337, 0.9292999999999996, 0.9268999999999996, 1.5666666666666667, 4.0, 1.4666666666666666, 2.966666666666667], 'prec@1': [0.07466666666666669, 0.07500000000000002, 0.07233333333333336, 0.060666666666666695, 2.316666666666667, 2.316666666666667, 2.533333333333333, 2.8333333333333335], 'prec@3': [0.07310000000000001, 0.0957, 0.07173333333333333, 0.062066666666666666, 2.683333333333333, 1.15, 2.8, 3.3666666666666667], 'prec@10': [0.06443333333333333, 0.07156666666666665, 0.06536666666666666, 0.05956666666666667, 2.6333333333333333, 1.1833333333333333, 2.6166666666666667, 3.566666666666667], 'rec@1': [0.009133333333333337, 0.013733333333333342, 0.009233333333333338, 0.006933333333333336, 2.566666666666667, 1.5833333333333333, 2.6, 3.25], 'rec@3': [0.02946666666666668, 0.03880000000000002, 0.026666666666666682, 0.022033333333333342, 2.533333333333333, 1.25, 2.8333333333333335, 3.3833333333333333], 'rec@10': [0.08473333333333334, 0.08956666666666667, 0.08669999999999999, 0.07123333333333333, 2.316666666666667, 1.8333333333333333, 2.25, 3.6]}\n"
     ]
    }
   ],
   "source": [
    "movies_means = dict_mean_ranks(movies_df)\n",
    "movies_means"
   ]
  },
  {
   "cell_type": "code",
   "execution_count": 21,
   "id": "bb871d04",
   "metadata": {},
   "outputs": [
    {
     "name": "stdout",
     "output_type": "stream",
     "text": [
      "{'auc': [0.7888666666666666, 0.4057666666666667, 0.7892666666666664, 0.7875333333333333, 2.15, 4.0, 2.216666666666667, 1.6333333333333333], 'f1': [0.7103, 0.43076666666666663, 0.7090666666666666, 0.7093, 2.05, 4.0, 2.033333333333333, 1.9166666666666667], 'prec@1': [0.05266666666666668, 0.0, 0.05233333333333335, 0.03733333333333334, 1.7166666666666666, 4.0, 1.6333333333333333, 2.65], 'prec@3': [0.04356666666666667, 0.0030000000000000014, 0.042366666666666664, 0.03323333333333335, 1.6666666666666667, 4.0, 1.6833333333333333, 2.65], 'prec@10': [0.030266666666666685, 0.0020000000000000013, 0.029700000000000018, 0.02476666666666668, 1.45, 4.0, 1.7666666666666666, 2.783333333333333], 'rec@1': [0.024500000000000008, 0.0, 0.024100000000000007, 0.01586666666666667, 1.6166666666666667, 4.0, 1.5166666666666666, 2.8666666666666667], 'rec@3': [0.05460000000000003, 0.005000000000000002, 0.05343333333333336, 0.039500000000000014, 1.6166666666666667, 4.0, 1.5333333333333334, 2.85], 'rec@10': [0.11413333333333336, 0.010000000000000004, 0.11320000000000004, 0.09539999999999998, 1.5166666666666666, 4.0, 1.65, 2.8333333333333335]}\n"
     ]
    }
   ],
   "source": [
    "music_means = dict_mean_ranks(music_df)\n",
    "music_means"
   ]
  },
  {
   "cell_type": "code",
   "execution_count": 24,
   "id": "ee34f96a",
   "metadata": {},
   "outputs": [],
   "source": [
    "def sum_metric_rank(original_df, metric):\n",
    "    metric_subtable=original_df[[metric+'_original', metric+'_without_self_attention', metric+'_without_ls_regularization', metric+'_with_dropout_0.2']]\n",
    "    ranked_metric_subtable = metric_subtable.rank(axis=1, ascending=False)\n",
    "    ranked_metric_subtable.columns = [col + '_rank' for col in metric_subtable.columns]\n",
    "#     result_ranked = pd.concat([metric_subtable, ranked_metric_subtable], axis=1)\n",
    "    sum_values = ranked_metric_subtable.sum()\n",
    "#     sum_values = mean_values.tolist()\n",
    "    return sum_values  "
   ]
  },
  {
   "cell_type": "code",
   "execution_count": 25,
   "id": "aa74b1f6",
   "metadata": {},
   "outputs": [
    {
     "data": {
      "text/plain": [
       "auc_original_rank                      48.0\n",
       "auc_without_self_attention_rank       120.0\n",
       "auc_without_ls_regularization_rank     46.5\n",
       "auc_with_dropout_0.2_rank              85.5\n",
       "dtype: float64"
      ]
     },
     "execution_count": 25,
     "metadata": {},
     "output_type": "execute_result"
    }
   ],
   "source": [
    "movies_sums = sum_metric_rank(movies_df,'auc')\n",
    "movies_sums"
   ]
  },
  {
   "cell_type": "code",
   "execution_count": 26,
   "id": "0b7414e9",
   "metadata": {},
   "outputs": [
    {
     "data": {
      "text/plain": [
       "auc_original_rank                      64.5\n",
       "auc_without_self_attention_rank       120.0\n",
       "auc_without_ls_regularization_rank     66.5\n",
       "auc_with_dropout_0.2_rank              49.0\n",
       "dtype: float64"
      ]
     },
     "execution_count": 26,
     "metadata": {},
     "output_type": "execute_result"
    }
   ],
   "source": [
    "music_sums = sum_metric_rank(music_df,'auc')\n",
    "music_sums"
   ]
  },
  {
   "cell_type": "code",
   "execution_count": null,
   "id": "d99bd4be",
   "metadata": {},
   "outputs": [],
   "source": []
  },
  {
   "cell_type": "code",
   "execution_count": null,
   "id": "5a788064",
   "metadata": {},
   "outputs": [],
   "source": []
  },
  {
   "cell_type": "code",
   "execution_count": null,
   "id": "2fb3d1b7",
   "metadata": {},
   "outputs": [],
   "source": []
  }
 ],
 "metadata": {
  "kernelspec": {
   "display_name": "Python 3",
   "language": "python",
   "name": "python3"
  },
  "language_info": {
   "codemirror_mode": {
    "name": "ipython",
    "version": 3
   },
   "file_extension": ".py",
   "mimetype": "text/x-python",
   "name": "python",
   "nbconvert_exporter": "python",
   "pygments_lexer": "ipython3",
   "version": "3.6.8"
  }
 },
 "nbformat": 4,
 "nbformat_minor": 5
}
