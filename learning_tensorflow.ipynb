{
 "cells": [
  {
   "cell_type": "code",
   "execution_count": 1,
   "id": "2c1c1fe5",
   "metadata": {},
   "outputs": [],
   "source": [
    "import tensorflow as tf\n",
    "import numpy\n",
    "tf.enable_eager_execution()"
   ]
  },
  {
   "cell_type": "code",
   "execution_count": 2,
   "id": "a8a39e03",
   "metadata": {},
   "outputs": [],
   "source": [
    "mnist = tf.keras.datasets.mnist\n",
    "\n",
    "(x_train, y_train), (x_test, y_test) = mnist.load_data()\n",
    "x_train, x_test = x_train / 255.0, x_test / 255.0"
   ]
  },
  {
   "cell_type": "code",
   "execution_count": 3,
   "id": "3a9d2a5d",
   "metadata": {},
   "outputs": [],
   "source": [
    "model = tf.keras.models.Sequential([\n",
    "  tf.keras.layers.Flatten(input_shape=(28, 28)),\n",
    "  tf.keras.layers.Dense(128, activation='relu'),\n",
    "  tf.keras.layers.Dropout(0.2),\n",
    "  tf.keras.layers.Dense(10)\n",
    "])"
   ]
  },
  {
   "cell_type": "code",
   "execution_count": 5,
   "id": "d2f8d9ef",
   "metadata": {},
   "outputs": [
    {
     "data": {
      "text/plain": [
       "<tf.Tensor: id=130, shape=(1, 10), dtype=float32, numpy=\n",
       "array([[0.05612273, 0.10079135, 0.12013827, 0.03545098, 0.06733976,\n",
       "        0.10605239, 0.08707495, 0.179347  , 0.07194396, 0.17573851]],\n",
       "      dtype=float32)>"
      ]
     },
     "execution_count": 5,
     "metadata": {},
     "output_type": "execute_result"
    }
   ],
   "source": [
    "predictions = model(x_train[:1]).numpy()\n",
    "tf.nn.softmax(predictions)"
   ]
  },
  {
   "cell_type": "code",
   "execution_count": 7,
   "id": "586534de",
   "metadata": {},
   "outputs": [
    {
     "data": {
      "text/plain": [
       "<tensorflow.python.keras.losses.SparseCategoricalCrossentropy at 0x132a63080f0>"
      ]
     },
     "execution_count": 7,
     "metadata": {},
     "output_type": "execute_result"
    }
   ],
   "source": [
    "loss_fn = tf.keras.losses.SparseCategoricalCrossentropy(from_logits=True)\n",
    "loss_fn"
   ]
  },
  {
   "cell_type": "code",
   "execution_count": 8,
   "id": "fba48672",
   "metadata": {},
   "outputs": [
    {
     "data": {
      "text/plain": [
       "2.243822"
      ]
     },
     "execution_count": 8,
     "metadata": {},
     "output_type": "execute_result"
    }
   ],
   "source": [
    "loss_fn(y_train[:1], predictions).numpy()"
   ]
  },
  {
   "cell_type": "code",
   "execution_count": 10,
   "id": "05d7f772",
   "metadata": {},
   "outputs": [
    {
     "name": "stdout",
     "output_type": "stream",
     "text": [
      "Train on 60000 samples\n",
      "Epoch 1/5\n",
      "60000/60000 [==============================] - 9s 143us/sample - loss: 0.2982 - acc: 0.9130\n",
      "Epoch 2/5\n",
      "60000/60000 [==============================] - 2s 41us/sample - loss: 0.1445 - acc: 0.9568\n",
      "Epoch 3/5\n",
      "60000/60000 [==============================] - 3s 43us/sample - loss: 0.1064 - acc: 0.9680\n",
      "Epoch 4/5\n",
      "60000/60000 [==============================] - 3s 42us/sample - loss: 0.0878 - acc: 0.9726\n",
      "Epoch 5/5\n",
      "60000/60000 [==============================] - 3s 42us/sample - loss: 0.0742 - acc: 0.9761\n"
     ]
    },
    {
     "data": {
      "text/plain": [
       "<tensorflow.python.keras.callbacks.History at 0x132a644d198>"
      ]
     },
     "execution_count": 10,
     "metadata": {},
     "output_type": "execute_result"
    }
   ],
   "source": [
    "model.compile(optimizer='adam',\n",
    "              loss=loss_fn,\n",
    "              metrics=['accuracy'])\n",
    "model.fit(x_train, y_train, epochs=5)"
   ]
  },
  {
   "cell_type": "code",
   "execution_count": 11,
   "id": "9fdfab31",
   "metadata": {},
   "outputs": [
    {
     "name": "stdout",
     "output_type": "stream",
     "text": [
      "10000/1 - 0s - loss: 0.0395 - acc: 0.9762\n"
     ]
    },
    {
     "data": {
      "text/plain": [
       "[0.07786491969469934, 0.9762]"
      ]
     },
     "execution_count": 11,
     "metadata": {},
     "output_type": "execute_result"
    }
   ],
   "source": [
    "model.evaluate(x_test,  y_test, verbose=2)"
   ]
  },
  {
   "cell_type": "code",
   "execution_count": 12,
   "id": "37ed27da",
   "metadata": {},
   "outputs": [
    {
     "data": {
      "text/plain": [
       "array([[ -5.653507 ,  -4.161817 ,  -2.9074388,   3.8746924, -13.3060055,\n",
       "         -4.8055706, -15.925996 ,  11.377564 ,  -3.9582038,  -2.121323 ]],\n",
       "      dtype=float32)"
      ]
     },
     "execution_count": 12,
     "metadata": {},
     "output_type": "execute_result"
    }
   ],
   "source": [
    "model(x_test[:1]).numpy()"
   ]
  },
  {
   "cell_type": "code",
   "execution_count": null,
   "id": "90a0ad41",
   "metadata": {},
   "outputs": [],
   "source": []
  }
 ],
 "metadata": {
  "kernelspec": {
   "display_name": "Python 3",
   "language": "python",
   "name": "python3"
  },
  "language_info": {
   "codemirror_mode": {
    "name": "ipython",
    "version": 3
   },
   "file_extension": ".py",
   "mimetype": "text/x-python",
   "name": "python",
   "nbconvert_exporter": "python",
   "pygments_lexer": "ipython3",
   "version": "3.6.8"
  }
 },
 "nbformat": 4,
 "nbformat_minor": 5
}
